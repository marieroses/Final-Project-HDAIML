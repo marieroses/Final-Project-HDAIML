{
 "cells": [
  {
   "cell_type": "code",
   "execution_count": 54,
   "id": "17475ef6-4d60-407a-89be-513916bf5001",
   "metadata": {},
   "outputs": [
    {
     "name": "stdout",
     "output_type": "stream",
     "text": [
      "Imported\n"
     ]
    }
   ],
   "source": [
    "# Import relevant libraries\n",
    "\n",
    "import pandas as pd\n",
    "import numpy as np\n",
    "from sklearn.feature_extraction.text import TfidfVectorizer\n",
    "from sklearn.cluster import KMeans\n",
    "from sklearn.cluster import AgglomerativeClustering\n",
    "import seaborn as sns\n",
    "import matplotlib.pyplot as plt\n",
    "print('Imported')"
   ]
  },
  {
   "cell_type": "markdown",
   "id": "7c606533-b4ab-43fe-8e71-3c732459ffd2",
   "metadata": {},
   "source": [
    "## 1. Job Profiles: Exploration, Vectorization and Clustering"
   ]
  },
  {
   "cell_type": "code",
   "execution_count": 56,
   "id": "ac7c0ea6-bad2-473a-823f-dca1f44dfb9f",
   "metadata": {},
   "outputs": [
    {
     "name": "stdout",
     "output_type": "stream",
     "text": [
      "                                       occupationUri  \\\n",
      "0  http://data.europa.eu/esco/occupation/00030d09...   \n",
      "1  http://data.europa.eu/esco/occupation/00030d09...   \n",
      "2  http://data.europa.eu/esco/occupation/00030d09...   \n",
      "3  http://data.europa.eu/esco/occupation/00030d09...   \n",
      "4  http://data.europa.eu/esco/occupation/00030d09...   \n",
      "\n",
      "                                            skillUri  \\\n",
      "0  http://data.europa.eu/esco/skill/fed5b267-73fa...   \n",
      "1  http://data.europa.eu/esco/skill/05bc7677-5a64...   \n",
      "2  http://data.europa.eu/esco/skill/271a36a0-bc7a...   \n",
      "3  http://data.europa.eu/esco/skill/47ed1d37-971b...   \n",
      "4  http://data.europa.eu/esco/skill/591dd514-735b...   \n",
      "\n",
      "                            skills_en.preferredLabel  \\\n",
      "0                                 theatre techniques   \n",
      "1                                organise rehearsals   \n",
      "2  write risk assessment on performing arts produ...   \n",
      "3               coordinate with creative departments   \n",
      "4                 adapt to artists' creative demands   \n",
      "\n",
      "  occupations_en.preferredLabel  \n",
      "0            technical director  \n",
      "1            technical director  \n",
      "2            technical director  \n",
      "3            technical director  \n",
      "4            technical director  \n"
     ]
    }
   ],
   "source": [
    "# Upload skills datasets\n",
    "\n",
    "ESCO=pd.ExcelFile(r\"C:\\Users\\mschm\\Desktop\\NCI Final Project\\Orientation App\\Data\\Merged Jobs.xlsx\")\n",
    "jobs=pd.read_excel(ESCO, 'Merged Table')\n",
    "print(jobs.head())"
   ]
  },
  {
   "cell_type": "code",
   "execution_count": 57,
   "id": "89c08430-a8cf-4849-a4e2-c25d8d1756b3",
   "metadata": {},
   "outputs": [
    {
     "name": "stdout",
     "output_type": "stream",
     "text": [
      "           Occupation                                              Skill\n",
      "0  technical director                                 theatre techniques\n",
      "1  technical director                                organise rehearsals\n",
      "2  technical director  write risk assessment on performing arts produ...\n",
      "3  technical director               coordinate with creative departments\n",
      "4  technical director                 adapt to artists' creative demands\n"
     ]
    }
   ],
   "source": [
    "# Rename and extract relevant columns\n",
    "\n",
    "jobs['Occupation']=jobs['occupations_en.preferredLabel']\n",
    "jobs['Skill']=jobs['skills_en.preferredLabel']\n",
    "jobs=jobs[['Occupation','Skill']]\n",
    "print(jobs.head())"
   ]
  },
  {
   "cell_type": "code",
   "execution_count": 58,
   "id": "af453f83-9040-4649-8a33-a8cf981ccaf6",
   "metadata": {},
   "outputs": [
    {
     "name": "stdout",
     "output_type": "stream",
     "text": [
      "0                                 theatretechniques\n",
      "1                                organiserehearsals\n",
      "2     writeriskassessmentonperformingartsproduction\n",
      "3                 coordinatewithcreativedepartments\n",
      "4                    adapttoartists'creativedemands\n",
      "5    negotiatehealthandsafetyissueswiththirdparties\n",
      "6          adaptdesigners’worktotheperformancevenue\n",
      "7                            promotehealthandsafety\n",
      "8     coordinatetechnicalteamsinartisticproductions\n",
      "9                              writetechnicalriders\n",
      "Name: Skill Vec, dtype: object\n"
     ]
    }
   ],
   "source": [
    "# Remove spaces for multi word skills in order to reduce bias during vectorization \n",
    "\n",
    "jobs['Skill Vec']=jobs['Skill'].str.replace(' ', '', regex=False)\n",
    "print(jobs['Skill Vec'].head(10))"
   ]
  },
  {
   "cell_type": "code",
   "execution_count": 59,
   "id": "e16f2453-37fe-4150-b22a-ec82fd68d1ba",
   "metadata": {},
   "outputs": [
    {
     "name": "stdout",
     "output_type": "stream",
     "text": [
      "13492\n",
      "3039\n"
     ]
    }
   ],
   "source": [
    "# Validate that observations for integrated jobs dataset are matching with original skills and occupations datasets\n",
    "\n",
    "print(jobs['Skill Vec'].nunique())\n",
    "print(jobs['Occupation'].nunique())"
   ]
  },
  {
   "cell_type": "code",
   "execution_count": 60,
   "id": "fe08002e-0502-408b-a21b-fff654fd44a3",
   "metadata": {},
   "outputs": [
    {
     "data": {
      "text/plain": [
       "Occupation    0\n",
       "Skill         0\n",
       "Skill Vec     0\n",
       "dtype: int64"
      ]
     },
     "execution_count": 60,
     "metadata": {},
     "output_type": "execute_result"
    }
   ],
   "source": [
    "# Check for null values\n",
    "\n",
    "jobs.isna().sum()"
   ]
  },
  {
   "cell_type": "code",
   "execution_count": 61,
   "id": "6363d28d-b178-4f03-85cc-b0ee9433cddd",
   "metadata": {},
   "outputs": [
    {
     "name": "stdout",
     "output_type": "stream",
     "text": [
      "                           Occupation  \\\n",
      "0   artificial intelligence engineer    \n",
      "1                         3D animator   \n",
      "2                         3D modeller   \n",
      "3              3D printing technician   \n",
      "4               ATM repair technician   \n",
      "\n",
      "                                           Skill Vec  \n",
      "0  digitaldataprocessing informationstructure com...  \n",
      "1  particleanimation principlesofanimation 3Dtext...  \n",
      "2  3Dtexturing 3Dlighting augmentedreality comput...  \n",
      "3  3Dprintingprocess printingonlargescalemachines...  \n",
      "4  mechanicaltools securitythreats ATMsystems ele...  \n",
      "(3039, 2)\n"
     ]
    }
   ],
   "source": [
    "jobs= jobs.groupby('Occupation')['Skill Vec'].apply(lambda skill: ' '.join(skill)).reset_index()\n",
    "print(jobs.head())\n",
    "print(jobs.shape)"
   ]
  },
  {
   "cell_type": "code",
   "execution_count": 62,
   "id": "0aea711c-b320-4cef-ac4f-527f36939f5b",
   "metadata": {},
   "outputs": [
    {
     "data": {
      "text/plain": [
       "(3039, 2)"
      ]
     },
     "execution_count": 62,
     "metadata": {},
     "output_type": "execute_result"
    }
   ],
   "source": [
    "jobs.shape"
   ]
  },
  {
   "cell_type": "code",
   "execution_count": 118,
   "id": "ea71e548-516e-405d-96d6-3694bf3454a2",
   "metadata": {},
   "outputs": [
    {
     "name": "stdout",
     "output_type": "stream",
     "text": [
      "(3039, 14007)\n"
     ]
    }
   ],
   "source": [
    "# Apply TfidfVectorizer in order to vectorize jobs into a comparable format with the students dataset\n",
    "\n",
    "vectorizer = TfidfVectorizer() \n",
    "vec_jobs_skills = vectorizer.fit_transform(jobs['Skill Vec'])\n",
    "print(vec_jobs_skills.shape)"
   ]
  },
  {
   "cell_type": "code",
   "execution_count": 120,
   "id": "959a6a7a-c9a4-4ceb-a29c-9fe9176fe748",
   "metadata": {},
   "outputs": [
    {
     "data": {
      "text/html": [
       "<div>\n",
       "<style scoped>\n",
       "    .dataframe tbody tr th:only-of-type {\n",
       "        vertical-align: middle;\n",
       "    }\n",
       "\n",
       "    .dataframe tbody tr th {\n",
       "        vertical-align: top;\n",
       "    }\n",
       "\n",
       "    .dataframe thead th {\n",
       "        text-align: right;\n",
       "    }\n",
       "</style>\n",
       "<table border=\"1\" class=\"dataframe\">\n",
       "  <thead>\n",
       "    <tr style=\"text-align: right;\">\n",
       "      <th></th>\n",
       "      <th>0</th>\n",
       "    </tr>\n",
       "  </thead>\n",
       "  <tbody>\n",
       "    <tr>\n",
       "      <th>0</th>\n",
       "      <td>(0, 7419)\\t0.09148566728914939\\n  (0, 1622)\\...</td>\n",
       "    </tr>\n",
       "    <tr>\n",
       "      <th>1</th>\n",
       "      <td>(0, 4073)\\t0.18453814174174177\\n  (0, 11623)...</td>\n",
       "    </tr>\n",
       "    <tr>\n",
       "      <th>2</th>\n",
       "      <td>(0, 2908)\\t0.08958945371060295\\n  (0, 930)\\t...</td>\n",
       "    </tr>\n",
       "    <tr>\n",
       "      <th>3</th>\n",
       "      <td>(0, 3484)\\t0.1466442061721987\\n  (0, 2042)\\t...</td>\n",
       "    </tr>\n",
       "    <tr>\n",
       "      <th>4</th>\n",
       "      <td>(0, 11258)\\t0.1995113627698705\\n  (0, 9583)\\...</td>\n",
       "    </tr>\n",
       "  </tbody>\n",
       "</table>\n",
       "</div>"
      ],
      "text/plain": [
       "                                                   0\n",
       "0    (0, 7419)\\t0.09148566728914939\\n  (0, 1622)\\...\n",
       "1    (0, 4073)\\t0.18453814174174177\\n  (0, 11623)...\n",
       "2    (0, 2908)\\t0.08958945371060295\\n  (0, 930)\\t...\n",
       "3    (0, 3484)\\t0.1466442061721987\\n  (0, 2042)\\t...\n",
       "4    (0, 11258)\\t0.1995113627698705\\n  (0, 9583)\\..."
      ]
     },
     "execution_count": 120,
     "metadata": {},
     "output_type": "execute_result"
    }
   ],
   "source": [
    "#Transform the vectorized data into a frame in order to be visualizable\n",
    "\n",
    "jobsvec=pd.DataFrame(vec_jobs_skills).head()\n",
    "jobsvec"
   ]
  },
  {
   "cell_type": "code",
   "execution_count": 122,
   "id": "8d3ed5b4-0c86-4027-8054-497d65c7ffb4",
   "metadata": {},
   "outputs": [
    {
     "name": "stderr",
     "output_type": "stream",
     "text": [
      "C:\\Users\\mschm\\anaconda3\\Lib\\site-packages\\sklearn\\cluster\\_kmeans.py:870: FutureWarning: The default value of `n_init` will change from 10 to 'auto' in 1.4. Set the value of `n_init` explicitly to suppress the warning\n",
      "  warnings.warn(\n"
     ]
    },
    {
     "data": {
      "text/plain": [
       "Cluster K-15\n",
       "0       96\n",
       "1       46\n",
       "2       59\n",
       "3       58\n",
       "4       80\n",
       "5      134\n",
       "6       62\n",
       "7       72\n",
       "8      143\n",
       "9       35\n",
       "10     178\n",
       "11    1818\n",
       "12     153\n",
       "13      71\n",
       "14      34\n",
       "Name: count, dtype: int64"
      ]
     },
     "execution_count": 122,
     "metadata": {},
     "output_type": "execute_result"
    }
   ],
   "source": [
    "# Cluster occupations in order to surface areas of interest. \n",
    "\n",
    "clustered_jobs_15 = KMeans(n_clusters=15, random_state=10)\n",
    "clusters_15 = clustered_jobs_15.fit_predict(vec_jobs_skills)\n",
    "jobs['Cluster K-15'] = clusters_15\n",
    "jobs.groupby('Cluster K-15')['Cluster K-15'].value_counts()"
   ]
  },
  {
   "cell_type": "code",
   "execution_count": 124,
   "id": "5b74f28d-8591-4e7f-80e2-6be18af6c521",
   "metadata": {},
   "outputs": [
    {
     "name": "stderr",
     "output_type": "stream",
     "text": [
      "C:\\Users\\mschm\\anaconda3\\Lib\\site-packages\\sklearn\\cluster\\_kmeans.py:870: FutureWarning: The default value of `n_init` will change from 10 to 'auto' in 1.4. Set the value of `n_init` explicitly to suppress the warning\n",
      "  warnings.warn(\n"
     ]
    },
    {
     "data": {
      "text/plain": [
       "Cluster K-25\n",
       "0       57\n",
       "1      138\n",
       "2      128\n",
       "3       36\n",
       "4      135\n",
       "5      132\n",
       "6     1196\n",
       "7       35\n",
       "8       41\n",
       "9       51\n",
       "10      37\n",
       "11      93\n",
       "12      40\n",
       "13      71\n",
       "14      48\n",
       "15      59\n",
       "16      75\n",
       "17      45\n",
       "18      46\n",
       "19      94\n",
       "20      79\n",
       "21      70\n",
       "22      44\n",
       "23     124\n",
       "24     165\n",
       "Name: count, dtype: int64"
      ]
     },
     "execution_count": 124,
     "metadata": {},
     "output_type": "execute_result"
    }
   ],
   "source": [
    "# 25 clusters simulation with K-means\n",
    "\n",
    "clustered_jobs_25 = KMeans(n_clusters=25, random_state=10)\n",
    "clusters_25 = clustered_jobs_25.fit_predict(vec_jobs_skills)\n",
    "jobs['Cluster K-25'] = clusters_25\n",
    "jobs.groupby('Cluster K-25')['Cluster K-25'].value_counts()"
   ]
  },
  {
   "cell_type": "code",
   "execution_count": 126,
   "id": "00f049ef-1a3f-4d28-b309-fa388e82cdc4",
   "metadata": {},
   "outputs": [
    {
     "name": "stderr",
     "output_type": "stream",
     "text": [
      "C:\\Users\\mschm\\anaconda3\\Lib\\site-packages\\sklearn\\cluster\\_kmeans.py:870: FutureWarning: The default value of `n_init` will change from 10 to 'auto' in 1.4. Set the value of `n_init` explicitly to suppress the warning\n",
      "  warnings.warn(\n"
     ]
    },
    {
     "data": {
      "text/plain": [
       "Cluster K-30\n",
       "0     255\n",
       "1     114\n",
       "2     103\n",
       "3     662\n",
       "4     112\n",
       "5     155\n",
       "6      36\n",
       "7      58\n",
       "8      58\n",
       "9     211\n",
       "10     34\n",
       "11     90\n",
       "12     69\n",
       "13     36\n",
       "14     40\n",
       "15     56\n",
       "16    108\n",
       "17     99\n",
       "18     18\n",
       "19     79\n",
       "20     95\n",
       "21     46\n",
       "22     41\n",
       "23     35\n",
       "24     48\n",
       "25     51\n",
       "26     50\n",
       "27     90\n",
       "28     89\n",
       "29    101\n",
       "Name: count, dtype: int64"
      ]
     },
     "execution_count": 126,
     "metadata": {},
     "output_type": "execute_result"
    }
   ],
   "source": [
    "# 30 clusters simulation with K-means\n",
    "\n",
    "clustered_jobs_30 = KMeans(n_clusters=30, random_state=10)\n",
    "clusters_30 = clustered_jobs_30.fit_predict(vec_jobs_skills)\n",
    "jobs['Cluster K-30'] = clusters_30\n",
    "jobs.groupby('Cluster K-30')['Cluster K-30'].value_counts()"
   ]
  },
  {
   "cell_type": "code",
   "execution_count": 128,
   "id": "29746ce5-cb12-4f55-b0cd-c17f7b629929",
   "metadata": {},
   "outputs": [
    {
     "data": {
      "text/plain": [
       "Cluster Agg-25\n",
       "0       75\n",
       "1       71\n",
       "2     1487\n",
       "3       55\n",
       "4       23\n",
       "5       52\n",
       "6      228\n",
       "7      103\n",
       "8       38\n",
       "9      126\n",
       "10      94\n",
       "11      73\n",
       "12      35\n",
       "13      33\n",
       "14     112\n",
       "15      43\n",
       "16      83\n",
       "17      38\n",
       "18      42\n",
       "19      44\n",
       "20      62\n",
       "21      35\n",
       "22      18\n",
       "23      35\n",
       "24      34\n",
       "Name: count, dtype: int64"
      ]
     },
     "execution_count": 128,
     "metadata": {},
     "output_type": "execute_result"
    }
   ],
   "source": [
    "# Agglomerative Clustering simulation for 25 clusters\n",
    "\n",
    "agglomerated_jobs_25 = AgglomerativeClustering(n_clusters=25)\n",
    "labels_25 = agglomerated_jobs_25.fit_predict(vec_jobs_skills.toarray())\n",
    "jobs[\"Cluster Agg-25\"] = labels_25\n",
    "jobs.groupby(\"Cluster Agg-25\")[\"Cluster Agg-25\"].value_counts()"
   ]
  },
  {
   "cell_type": "code",
   "execution_count": 130,
   "id": "3dbc4542-bc99-4d2d-bce1-d94c347ad50d",
   "metadata": {},
   "outputs": [
    {
     "data": {
      "text/plain": [
       "Cluster Agg-30\n",
       "0     1400\n",
       "1      165\n",
       "2       70\n",
       "3       55\n",
       "4       23\n",
       "5       52\n",
       "6       62\n",
       "7      103\n",
       "8       38\n",
       "9      126\n",
       "10      94\n",
       "11      73\n",
       "12      17\n",
       "13      45\n",
       "14     112\n",
       "15      43\n",
       "16      83\n",
       "17      38\n",
       "18      42\n",
       "19      44\n",
       "20      62\n",
       "21      35\n",
       "22      18\n",
       "23      35\n",
       "24      34\n",
       "25      13\n",
       "26      35\n",
       "27      33\n",
       "28      26\n",
       "29      63\n",
       "Name: count, dtype: int64"
      ]
     },
     "execution_count": 130,
     "metadata": {},
     "output_type": "execute_result"
    }
   ],
   "source": [
    "# Agglomerative Clustering simulation for 30 clusters\n",
    "\n",
    "agglomerated_jobs_30 = AgglomerativeClustering(n_clusters=30)\n",
    "labels_30 = agglomerated_jobs_30.fit_predict(vec_jobs_skills.toarray())\n",
    "jobs[\"Cluster Agg-30\"] = labels_30\n",
    "jobs.groupby(\"Cluster Agg-30\")[\"Cluster Agg-30\"].value_counts()"
   ]
  },
  {
   "cell_type": "code",
   "execution_count": 70,
   "id": "94c74647-3d5c-422e-a1af-1ac2ff81469a",
   "metadata": {},
   "outputs": [
    {
     "data": {
      "image/png": "[encoded data removed]",
      "text/plain": [
       "<Figure size 640x480 with 1 Axes>"
      ]
     },
     "metadata": {},
     "output_type": "display_data"
    }
   ],
   "source": [
    "# Visualize number of data points for each cluster for the 30 K-Means clusters\n",
    "\n",
    "jobs[\"Cluster K-30\"] = jobs[\"Cluster K-30\"].astype(int)\n",
    "ordered_clusters = sorted(jobs[\"Cluster K-30\"].unique())\n",
    "\n",
    "plt.figure()\n",
    "sns.countplot(data=jobs, x=\"Cluster K-30\",order=ordered_clusters, palette=\"mako\")\n",
    "\n",
    "plt.title(\"Number of Occupations per Cluster after K-Means Clustering n=30\")\n",
    "plt.xlabel(\"Cluster\")\n",
    "plt.ylabel(\"Number of Occupations\")\n",
    "plt.xticks(rotation=90)\n",
    "plt.tight_layout()\n",
    "plt.show()"
   ]
  },
  {
   "cell_type": "code",
   "execution_count": 71,
   "id": "e1f43b98-099a-440b-84cf-4b0ef1104b2b",
   "metadata": {},
   "outputs": [
    {
     "name": "stdout",
     "output_type": "stream",
     "text": [
      "Cluster 0: managebudgets, managegovernmentpolicyimplementation, governmentpolicyimplementation, liaisewithlocalauthorities, maintainrelationshipswithgovernmentagencies, managestaff, developprofessionalnetwork, performprojectmanagement, maintainrelationswithlocalrepresentatives, observeconfidentiality\n",
      "Cluster 1: applyblendedlearning, communicatewithanon, applyforresearchfunding, evaluateresearchactivities, conductresearchacrossdisciplines, operateopensourcesoftware, managefindableaccessibleinteroperableandreusabledata, demonstratedisciplinaryexpertise, disseminateresultstothescientificcommunity, teachinacademicorvocationalcontexts\n",
      "Cluster 2: optimiseproductionprocessesparameters, inspectqualityofproducts, applyaprotectivelayer, maintainequipment, measurematerials, evaluaterestorationprocedures, maintainmoulds, writebatchrecorddocumentation, applyrestorationtechniques, createsmoothwoodsurface\n",
      "Cluster 3: usedifferentcommunicationchannels, maintaincustomerservice, trainemployees, handlecustomercomplaints, communicatewithcustomers, relatedreports, writework, complywithfoodsafetyandhygiene, greetguests, providefirstaid\n",
      "Cluster 4: applyrequirementsconcerningmanufacturingoffoodandbeverages, applyhaccp, applygmp, liaisewithcolleagues, followhygienicproceduresduringfoodprocessing, ensurecompliancewithenvironmentallegislationinfoodproduction, liaisewithmanagers, labelsamples, actreliably, workinafoodprocessingteam\n",
      "Cluster 5: workwithrespectforownsafety, developprofessionalnetwork, copyrightlegislation, adapttoartists, creativedemands, keeppersonaladministration, translateartisticconceptstotechnicaldesigns, analyseascript, attendrehearsals, worksafelywithmobileelectricalsystemsundersupervision\n",
      "Cluster 6: handlequotesfromprospectiveshippers, applyexportstrategies, applyimportstrategies, monitormerchandisedelivery, exportcommercialdocumentation, administermulti, fileclaimswithinsurancecompanies, modallogistics, createimport, handlecarriers\n",
      "Cluster 7: ferrousmetalprocessing, removeinadequateworkpieces, removeprocessedworkpiece, typesofmetal, typesofmetalmanufacturingprocesses, ensureequipmentavailability, consulttechnicalresources, supplymachine, adviseonmachinerymalfunctions, manufacturingofweaponsandammunition\n",
      "Cluster 8: followhealthandsafetyprecautionsinsocialcarepractices, deliversocialservicesindiverseculturalcommunities, managesocialcrisis, communicatewithsocialserviceusers, maintainrecordsofworkwithserviceusers, situation, legalrequirementsinthesocialsector, applyqualitystandardsinsocialservices, communicateprofessionallywithcolleaguesinotherfields, assesssocialserviceusers\n",
      "Cluster 9: ensurecompliancewithsafetylegislation, ensurecompliancewithenvironmentallegislation, electricity, geology, troubleshoot, engineeringprinciples, chemistry, usetechnicaldrawingsoftware, technicaldrawings, impactofgeologicalfactorsonminingoperations\n",
      "Cluster 10: minimiseshippingcost, managefreightpaymentmethods, trackshippingsites, trackshipments, ensureregulatorycomplianceconcerningdistributionactivities, carryoutinventorycontrolaccuracy, hazardousfreightregulations, analysesupplychaintrends, developfinancialstatisticsreports, freighttransportmethods\n",
      "Cluster 11: followhealthandsafetyproceduresinconstruction, usesafetyequipmentinconstruction, workinaconstructionteam, inspectconstructionsupplies, processincomingconstructionsupplies, workergonomically, keeprecordsofworkprogress, interpret2dplans, interpret3dplans, orderconstructionsupplies\n",
      "Cluster 12: propertiesoftextilematerials, distinguishaccessories, distinguishfabrics, textiletechnologies, controltextileprocess, maintainworkstandards, evaluatetextilecharacteristics, conducttextiletestingoperations, apparelmanufacturingtechnology, decoratetextilearticles\n",
      "Cluster 13: conductperformancemeasurement, manageprocesses, setimportexportstrategies, directdistributionoperations, exportcontrolprinciples, controltradecommercialdocumentation, managingabusinesswithgreatcare, abidebybusinessethicalcodeofconducts, producesalesreports, monitorinternationalmarketperformance\n",
      "Cluster 14: monitorthewelfareofanimals, animalwelfare, signsofanimalillness, animalwelfarelegislation, manageanimalbiosecurity, applyanimalhygienepractices, adviseonanimalwelfare, anatomyofanimals, physiologyofanimals, animalbehaviour\n",
      "Cluster 15: pestcontrolinplants, agronomy, plantdiseasecontrol, ecology, executediseaseandpestcontrolactivities, organicfarming, supervisehygieneproceduresinagriculturalsettings, biology, horticultureprinciples, fertilisationprinciples\n",
      "Cluster 16: providecustomerfollow, upservices, guaranteecustomersatisfaction, communicatewithcustomers, processpayments, maintaincustomerservice, recordcustomers, personaldata, productcomprehension, managescheduleoftasks\n",
      "Cluster 17: safety, guaranteestudents, curriculumobjectives, assessstudents, scapabilities, adaptteachingtostudent, learningdifficulties, assiststudentsintheirlearning, giveconstructivefeedback, providelessonmaterials\n",
      "Cluster 18: physico, chemicalpropertiesofhidesandskins, identifydefectsonrawhides, manageenvironmentalimpactofoperations, managequalityofleatherthroughouttheproductionprocess, leatherchemistry, sgoals, identifywiththecompany, leathertechnology, monitoroperationsintheleatherindustry\n",
      "Cluster 19: complywithlegislationrelatedtohealthcare, workinmultidisciplinaryhealthteams, ensuresafetyofhealthcareusers, communicateinhealthcare, followclinicalguidelines, complywithqualitystandardsrelatedtohealthcarepractice, empathisewiththehealthcareuser, interactwithhealthcareusers, providehealtheducation, applycontextspecificclinicalcompetences\n",
      "Cluster 20: resolveequipmentmalfunctions, electronics, readstandardblueprints, inspectqualityofproducts, keeprecordsofworkprogress, fastencomponents, readassemblydrawings, troubleshoot, aligncomponents, operatesolderingequipment\n",
      "Cluster 21: setsalesgoals, overseepromotionalsalesprices, supervisemerchandisedisplays, managetheftprevention, obtainrelevantlicenses, ensurecompliancewithpurchasingandcontractingregulations, monitorcustomerservice, maximisesalesrevenues, setuppricingstrategies, salesactivities\n",
      "Cluster 22: providecustomerguidanceonproductselection, carryoutorderintake, processrefunds, stockshelves, planaftersalesarrangements, maintainstorecleanliness, examinemerchandise, preventshoplifting, organisestoragefacilities, carryoutactiveselling\n",
      "Cluster 23: initiatecontactwithsellers, initiatecontactwithbuyers, negotiatesaleofcommodities, identifynewbusinessopportunities, assesssupplierrisks, identifysuppliers, monitorinternationalmarketperformance, comprehendfinancialbusinessterminology, salesstrategies, negotiatebuyingconditions\n",
      "Cluster 24: computerprogramming, toolsforsoftwareconfigurationmanagement, python, ruby, java, pascal, lisp, openedgeadvancedbusinesslanguage, objective, prolog\n",
      "Cluster 25: reduceenvironmentalimpactoffootwearmanufacturing, useittools, leathergoodsmaterials, leathergoodscomponents, usecommunicationtechniques, leathergoodsquality, leathergoodsmanufacturingprocesses, footwearmanufacturingtechnology, footwearquality, footwearcomponents\n",
      "Cluster 26: identifysecuritythreats, ensurecompliancewithtypesofweapons, maintainoperationalcommunications, surveillancemethods, practicevigilance, militarycode, handlesurveillanceequipment, operateradioequipment, militarycombattechniques, militaryweaponry\n",
      "Cluster 27: engineeringprinciples, engineeringprocesses, readengineeringdrawings, liaisewithengineers, usecadsoftware, conductperformancetests, usetestingequipment, mechanics, recordtestdata, mathematics\n",
      "Cluster 28: analysefinancialrisk, obtainfinancialinformation, adviseonfinancialmatters, bankingactivities, analysemarketfinancialtrends, actuarialscience, createafinancialplan, securities, financialproducts, communicatewithbankingprofessionals\n",
      "Cluster 29: recordproductiondataforqualitycontrol, supplymachine, qualitystandards, setupthecontrollerofamachine, monitorautomatedmachines, wearappropriateprotectivegear, keeprecordsofworkprogress, consulttechnicalresources, reportdefectivemanufacturingmaterials, performtestrun\n"
     ]
    }
   ],
   "source": [
    "# Extract 10 top labels for each cluster in order to surface more general area / domain of interest\n",
    "\n",
    "def print_top_terms_kmeans(kmeans_model, vectorizer, n_terms=10):\n",
    "    terms = vectorizer.get_feature_names_out()\n",
    "    centers = kmeans_model.cluster_centers_\n",
    "\n",
    "    for idx, centroid in enumerate(centers):\n",
    "        top_term_indices = centroid.argsort()[::-1][:n_terms]\n",
    "        top_terms = [terms[i] for i in top_term_indices]\n",
    "        print(f\"Cluster {idx}: {', '.join(top_terms)}\")\n",
    "\n",
    "print_top_terms_kmeans(\n",
    "    kmeans_model=clustered_jobs_30, \n",
    "    vectorizer=vectorizer,\n",
    "    n_terms=10\n",
    ")"
   ]
  },
  {
   "cell_type": "code",
   "execution_count": 72,
   "id": "d6126c02-b569-4e20-8c1b-13983d9ef086",
   "metadata": {},
   "outputs": [
    {
     "name": "stdout",
     "output_type": "stream",
     "text": [
      "                              Occupation  \\\n",
      "0      artificial intelligence engineer    \n",
      "1                            3D animator   \n",
      "2                            3D modeller   \n",
      "3                 3D printing technician   \n",
      "4                  ATM repair technician   \n",
      "5                       EU funds manager   \n",
      "6                 Freinet school teacher   \n",
      "7               ICT accessibility tester   \n",
      "8                    ICT account manager   \n",
      "9           ICT application configurator   \n",
      "10             ICT application developer   \n",
      "11                   ICT auditor manager   \n",
      "12         ICT business analysis manager   \n",
      "13                  ICT business analyst   \n",
      "14      ICT business development manager   \n",
      "15                             ICT buyer   \n",
      "16                  ICT capacity planner   \n",
      "17  ICT change and configuration manager   \n",
      "18                        ICT consultant   \n",
      "19         ICT disaster recovery analyst   \n",
      "\n",
      "                                            Skill Vec  Cluster K-15  \\\n",
      "0   digitaldataprocessing informationstructure com...            10   \n",
      "1   particleanimation principlesofanimation 3Dtext...             0   \n",
      "2   3Dtexturing 3Dlighting augmentedreality comput...            10   \n",
      "3   3Dprintingprocess printingonlargescalemachines...            10   \n",
      "4   mechanicaltools securitythreats ATMsystems ele...            11   \n",
      "5   urbanplanninglaw projectmanagementprinciples g...            11   \n",
      "6   assessmentprocesses socialdevelopment learning...             5   \n",
      "7   screenreader behaviouralscience ICTaccessibili...            11   \n",
      "8   salesargumentation service-orientedmodelling a...            11   \n",
      "9   computerprogramming digitalsystems ICTdebuggin...            10   \n",
      "10  computerprogramming ICTdebuggingtools service-...            10   \n",
      "11  attackvectors audittechniques cybersecurity qu...            11   \n",
      "12  digitalcommunicationandcollaboration decisions...            11   \n",
      "13  businessrequirementstechniques digitalsystems ...            11   \n",
      "14  innovationprocesses decisionsupportsystems bus...            11   \n",
      "15  contractlaw manufacturer'srecommendedprice pro...            11   \n",
      "16  ICTcapacityplanningstrategies crowdsourcingstr...            11   \n",
      "17  digitalsystems toolsforsoftwareconfigurationma...            11   \n",
      "18  visualpresentationtechniques ICTsalesmethodolo...            11   \n",
      "19  managestaff manageITsecuritycompliances applyc...            11   \n",
      "\n",
      "    Cluster K-25  Cluster K-30  Cluster Agg-25  Cluster Agg-30  \\\n",
      "0             14            24              19              19   \n",
      "1              6             3               2               0   \n",
      "2             14            24              19              19   \n",
      "3              1            27               6              29   \n",
      "4              6            16               2               0   \n",
      "5              5             0               2               0   \n",
      "6             19            17               9               9   \n",
      "7              6             3               2               0   \n",
      "8              6            16               2               0   \n",
      "9             14            24              19              19   \n",
      "10            14            24              19              19   \n",
      "11             6             3               2               0   \n",
      "12             6             0               2               0   \n",
      "13             6             3               2               0   \n",
      "14             6             0               2               0   \n",
      "15             6             0               2               0   \n",
      "16             6             3               2               0   \n",
      "17             6             3               2               0   \n",
      "18             6             3               2               0   \n",
      "19             6             3               2               0   \n",
      "\n",
      "       Domain of Interest  \n",
      "0    Software Development  \n",
      "1        Customer Service  \n",
      "2    Software Development  \n",
      "3     Engineering Support  \n",
      "4        Client Relations  \n",
      "5   Public Administration  \n",
      "6        Teaching Support  \n",
      "7        Customer Service  \n",
      "8        Client Relations  \n",
      "9    Software Development  \n",
      "10   Software Development  \n",
      "11       Customer Service  \n",
      "12  Public Administration  \n",
      "13       Customer Service  \n",
      "14  Public Administration  \n",
      "15  Public Administration  \n",
      "16       Customer Service  \n",
      "17       Customer Service  \n",
      "18       Customer Service  \n",
      "19       Customer Service  \n"
     ]
    }
   ],
   "source": [
    "# Map clusters with their respective domain of interests\n",
    "\n",
    "domains = {\n",
    "    0: \"Public Administration\",\n",
    "    1: \"Academic Research\",\n",
    "    2: \"Production Operations\",\n",
    "    3: \"Customer Service\",\n",
    "    4: \"Food Processing\",\n",
    "    5: \"Stage Production\",\n",
    "    6: \"Logistics Operations\",\n",
    "    7: \"Metal Manufacturing\",\n",
    "    8: \"Social Services\",\n",
    "    9: \"Environmental Engineering\",\n",
    "    10: \"Supply Chain\",\n",
    "    11: \"Construction Support\",\n",
    "    12: \"Textile Technology\",\n",
    "    13: \"International Trade\",\n",
    "    14: \"Animal Care\",\n",
    "    15: \"Agricultural Science\",\n",
    "    16: \"Client Relations\",\n",
    "    17: \"Teaching Support\",\n",
    "    18: \"Leather Processing\",\n",
    "    19: \"Healthcare Practice\",\n",
    "    20: \"Electronic Assembly\",\n",
    "    21: \"Retail Management\",\n",
    "    22: \"Retail Operations\",\n",
    "    23: \"Business Development\",\n",
    "    24: \"Software Development\",\n",
    "    25: \"Footwear Manufacturing\",\n",
    "    26: \"Military Operations\",\n",
    "    27: \"Engineering Support\",\n",
    "    28: \"Financial Analysis\",\n",
    "    29: \"Automated Manufacturing\"\n",
    "}\n",
    "\n",
    "jobs['Domain of Interest'] = jobs['Cluster K-30'].map(domains)\n",
    "print(jobs.head(20))"
   ]
  },
  {
   "cell_type": "code",
   "execution_count": 73,
   "id": "f43b0b4e-9e94-4a5b-99d9-4bbda36c7e55",
   "metadata": {},
   "outputs": [
    {
     "name": "stdout",
     "output_type": "stream",
     "text": [
      "0    digitaldataprocessing informationstructure com...\n",
      "1    particleanimation principlesofanimation 3Dtext...\n",
      "2    3Dtexturing 3Dlighting augmentedreality comput...\n",
      "3    3Dprintingprocess printingonlargescalemachines...\n",
      "4    mechanicaltools securitythreats ATMsystems ele...\n",
      "Name: Skill and Domain, dtype: object\n"
     ]
    }
   ],
   "source": [
    "# Concatenate skills and area of interest for second vectorization\n",
    "\n",
    "jobs[\"Skill and Domain\"] = jobs[\"Skill Vec\"] + \" \" + jobs[\"Domain of Interest\"]\n",
    "print(jobs['Skill and Domain'].head())"
   ]
  },
  {
   "cell_type": "code",
   "execution_count": 132,
   "id": "f69064f9-f971-4fcc-b8da-1b4f1ff7f6bb",
   "metadata": {},
   "outputs": [
    {
     "name": "stdout",
     "output_type": "stream",
     "text": [
      "(3039, 14047)\n"
     ]
    }
   ],
   "source": [
    "# Second vectorization including skills and domains of interest\n",
    "\n",
    "vectorizer2 = TfidfVectorizer() \n",
    "vec_jobs_skills_domains = vectorizer2.fit_transform(jobs['Skill and Domain'])\n",
    "print(vec_jobs_skills_domains.shape)"
   ]
  },
  {
   "cell_type": "markdown",
   "id": "d4c4ef39-883d-4ea0-8681-542724ec9161",
   "metadata": {},
   "source": [
    "## 2. Student Profiles: Exploration and Vectorization"
   ]
  },
  {
   "cell_type": "code",
   "execution_count": 100,
   "id": "21cb3876-09ea-4f07-b46c-33fe51615fc0",
   "metadata": {},
   "outputs": [
    {
     "data": {
      "text/html": [
       "<div>\n",
       "<style scoped>\n",
       "    .dataframe tbody tr th:only-of-type {\n",
       "        vertical-align: middle;\n",
       "    }\n",
       "\n",
       "    .dataframe tbody tr th {\n",
       "        vertical-align: top;\n",
       "    }\n",
       "\n",
       "    .dataframe thead th {\n",
       "        text-align: right;\n",
       "    }\n",
       "</style>\n",
       "<table border=\"1\" class=\"dataframe\">\n",
       "  <thead>\n",
       "    <tr style=\"text-align: right;\">\n",
       "      <th></th>\n",
       "      <th>Skill Vec</th>\n",
       "      <th>Domain of Interest</th>\n",
       "    </tr>\n",
       "  </thead>\n",
       "  <tbody>\n",
       "    <tr>\n",
       "      <th>0</th>\n",
       "      <td>digitaldataprocessing informationstructure com...</td>\n",
       "      <td>Software Development</td>\n",
       "    </tr>\n",
       "    <tr>\n",
       "      <th>1</th>\n",
       "      <td>particleanimation principlesofanimation 3Dtext...</td>\n",
       "      <td>Customer Service</td>\n",
       "    </tr>\n",
       "    <tr>\n",
       "      <th>2</th>\n",
       "      <td>3Dtexturing 3Dlighting augmentedreality comput...</td>\n",
       "      <td>Software Development</td>\n",
       "    </tr>\n",
       "    <tr>\n",
       "      <th>3</th>\n",
       "      <td>3Dprintingprocess printingonlargescalemachines...</td>\n",
       "      <td>Engineering Support</td>\n",
       "    </tr>\n",
       "    <tr>\n",
       "      <th>4</th>\n",
       "      <td>mechanicaltools securitythreats ATMsystems ele...</td>\n",
       "      <td>Client Relations</td>\n",
       "    </tr>\n",
       "  </tbody>\n",
       "</table>\n",
       "</div>"
      ],
      "text/plain": [
       "                                           Skill Vec    Domain of Interest\n",
       "0  digitaldataprocessing informationstructure com...  Software Development\n",
       "1  particleanimation principlesofanimation 3Dtext...      Customer Service\n",
       "2  3Dtexturing 3Dlighting augmentedreality comput...  Software Development\n",
       "3  3Dprintingprocess printingonlargescalemachines...   Engineering Support\n",
       "4  mechanicaltools securitythreats ATMsystems ele...      Client Relations"
      ]
     },
     "execution_count": 100,
     "metadata": {},
     "output_type": "execute_result"
    }
   ],
   "source": [
    "jobs[['Skill Vec','Domain of Interest']].head() "
   ]
  },
  {
   "cell_type": "code",
   "execution_count": 76,
   "id": "92137c74-96cb-4367-b33a-2da7797e7a5c",
   "metadata": {},
   "outputs": [
    {
     "name": "stdout",
     "output_type": "stream",
     "text": [
      "['theatre techniques' 'organise rehearsals'\n",
      " 'write risk assessment on performing arts production'\n",
      " 'coordinate with creative departments'\n",
      " \"adapt to artists' creative demands\"]\n",
      "['Software Development' 'Customer Service' 'Engineering Support'\n",
      " 'Client Relations' 'Public Administration']\n",
      "13492\n",
      "30\n"
     ]
    }
   ],
   "source": [
    "#Extract list of unique skills and domain of interest to compute the student profiles dataset\n",
    "\n",
    "skills_tab=pd.read_excel(ESCO, 'Merged Table')\n",
    "student_skills=skills_tab['skills_en.preferredLabel'].unique()\n",
    "student_domains=jobs['Domain of Interest'].unique()\n",
    "\n",
    "print(student_skills[0:5])\n",
    "print(student_domains[0:5])\n",
    "print(student_skills.size)\n",
    "print(student_domains.size)"
   ]
  },
  {
   "cell_type": "code",
   "execution_count": 112,
   "id": "e2cb1228-ee3d-4867-adca-0c0af065521e",
   "metadata": {},
   "outputs": [
    {
     "name": "stdout",
     "output_type": "stream",
     "text": [
      "                                           Skill Vec       Domain of Interest\n",
      "0  batterytesters presentexhibition controlslatec...     Agricultural Science\n",
      "1  performmusicinensemble develophealthandsafetys...         Stage Production\n",
      "2  manipulatestainlesssteel providecustomerswithp...         Customer Service\n",
      "3  endoscopy purchasecarmaterials strategiesforha...  Automated Manufacturing\n",
      "4  spraypesticides operateprecisionmachinery salt...         Teaching Support\n",
      "(20000, 2)\n",
      "20000\n"
     ]
    }
   ],
   "source": [
    "#Compute student profiles dataset by randomly selecting skills and domains of interest \n",
    "\n",
    "np.random.seed(10)\n",
    "num_profiles = 20000\n",
    "\n",
    "def create_profiles():\n",
    "    skills = np.random.choice(student_skills, 5, replace=False)\n",
    "    skill_vec = ' '.join(skill.replace(' ', '').lower() for skill in skills)\n",
    "    domain = np.random.choice(student_domains)\n",
    "    return {'Skill Vec': skill_vec, 'Domain of Interest': domain}\n",
    "\n",
    "student_profiles = [create_student_profile() for _ in range(num_students)]\n",
    "students = pd.DataFrame(student_profiles)\n",
    "\n",
    "print(students.head())\n",
    "print(students.shape)\n",
    "print(students['Skill Vec'].nunique())"
   ]
  },
  {
   "cell_type": "code",
   "execution_count": null,
   "id": "f889a462-e383-4fc7-b38d-c010caf3b9b6",
   "metadata": {},
   "outputs": [],
   "source": [
    "# Vectorize students dataset including only skills "
   ]
  },
  {
   "cell_type": "code",
   "execution_count": null,
   "id": "b79dca0e-c955-438f-905a-70997238078e",
   "metadata": {},
   "outputs": [],
   "source": [
    "# Vectorize students dataset including skills and domains of interest"
   ]
  }
 ],
 "metadata": {
  "kernelspec": {
   "display_name": "Python [conda env:base] *",
   "language": "python",
   "name": "conda-base-py"
  },
  "language_info": {
   "codemirror_mode": {
    "name": "ipython",
    "version": 3
   },
   "file_extension": ".py",
   "mimetype": "text/x-python",
   "name": "python",
   "nbconvert_exporter": "python",
   "pygments_lexer": "ipython3",
   "version": "3.11.7"
  }
 },
 "nbformat": 4,
 "nbformat_minor": 5
}
