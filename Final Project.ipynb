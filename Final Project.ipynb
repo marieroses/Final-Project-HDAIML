{
 "cells": [
  {
   "cell_type": "code",
   "execution_count": null,
   "id": "f9074477-fca6-41bb-a749-de0f3bbb636b",
   "metadata": {},
   "outputs": [],
   "source": []
  },
  {
   "cell_type": "code",
   "execution_count": 187,
   "id": "17475ef6-4d60-407a-89be-513916bf5001",
   "metadata": {},
   "outputs": [
    {
     "name": "stdout",
     "output_type": "stream",
     "text": [
      "Imported\n"
     ]
    }
   ],
   "source": [
    "import pandas as pd\n",
    "import numpy as np\n",
    "print('Imported')"
   ]
  },
  {
   "cell_type": "code",
   "execution_count": 188,
   "id": "ac7c0ea6-bad2-473a-823f-dca1f44dfb9f",
   "metadata": {},
   "outputs": [
    {
     "name": "stdout",
     "output_type": "stream",
     "text": [
      "                                       occupationUri  \\\n",
      "0  http://data.europa.eu/esco/occupation/00030d09...   \n",
      "1  http://data.europa.eu/esco/occupation/00030d09...   \n",
      "2  http://data.europa.eu/esco/occupation/00030d09...   \n",
      "3  http://data.europa.eu/esco/occupation/00030d09...   \n",
      "4  http://data.europa.eu/esco/occupation/00030d09...   \n",
      "\n",
      "                                            skillUri  \\\n",
      "0  http://data.europa.eu/esco/skill/fed5b267-73fa...   \n",
      "1  http://data.europa.eu/esco/skill/05bc7677-5a64...   \n",
      "2  http://data.europa.eu/esco/skill/271a36a0-bc7a...   \n",
      "3  http://data.europa.eu/esco/skill/47ed1d37-971b...   \n",
      "4  http://data.europa.eu/esco/skill/591dd514-735b...   \n",
      "\n",
      "                            skills_en.preferredLabel  \\\n",
      "0                                 theatre techniques   \n",
      "1                                organise rehearsals   \n",
      "2  write risk assessment on performing arts produ...   \n",
      "3               coordinate with creative departments   \n",
      "4                 adapt to artists' creative demands   \n",
      "\n",
      "  occupations_en.preferredLabel  \n",
      "0            technical director  \n",
      "1            technical director  \n",
      "2            technical director  \n",
      "3            technical director  \n",
      "4            technical director  \n"
     ]
    }
   ],
   "source": [
    "ESCO=pd.ExcelFile(r\"C:\\Users\\mschm\\Desktop\\NCI Final Project\\Orientation App\\Data\\Merged Jobs.xlsx\")\n",
    "jobs=pd.read_excel(ESCO, 'Merged Table')\n",
    "print(jobs.head())"
   ]
  },
  {
   "cell_type": "code",
   "execution_count": 189,
   "id": "89c08430-a8cf-4849-a4e2-c25d8d1756b3",
   "metadata": {},
   "outputs": [
    {
     "name": "stdout",
     "output_type": "stream",
     "text": [
      "           Occupation                                              Skill\n",
      "0  technical director                                 theatre techniques\n",
      "1  technical director                                organise rehearsals\n",
      "2  technical director  write risk assessment on performing arts produ...\n",
      "3  technical director               coordinate with creative departments\n",
      "4  technical director                 adapt to artists' creative demands\n"
     ]
    }
   ],
   "source": [
    "jobs['Occupation']=jobs['occupations_en.preferredLabel']\n",
    "jobs['Skill']=jobs['skills_en.preferredLabel']\n",
    "jobs=jobs[['Occupation','Skill']]\n",
    "print(jobs.head())"
   ]
  },
  {
   "cell_type": "code",
   "execution_count": 190,
   "id": "e16f2453-37fe-4150-b22a-ec82fd68d1ba",
   "metadata": {},
   "outputs": [
    {
     "name": "stdout",
     "output_type": "stream",
     "text": [
      "13492\n",
      "3039\n"
     ]
    }
   ],
   "source": [
    "print(jobs['Skill'].nunique())\n",
    "print(jobs['Occupation'].nunique())"
   ]
  },
  {
   "cell_type": "code",
   "execution_count": 191,
   "id": "fe08002e-0502-408b-a21b-fff654fd44a3",
   "metadata": {},
   "outputs": [
    {
     "data": {
      "text/plain": [
       "Occupation    0\n",
       "Skill         0\n",
       "dtype: int64"
      ]
     },
     "execution_count": 191,
     "metadata": {},
     "output_type": "execute_result"
    }
   ],
   "source": [
    "jobs.isna().sum()"
   ]
  },
  {
   "cell_type": "code",
   "execution_count": 192,
   "id": "6363d28d-b178-4f03-85cc-b0ee9433cddd",
   "metadata": {},
   "outputs": [
    {
     "name": "stdout",
     "output_type": "stream",
     "text": [
      "                           Occupation  \\\n",
      "0   artificial intelligence engineer    \n",
      "1                         3D animator   \n",
      "2                         3D modeller   \n",
      "3              3D printing technician   \n",
      "4               ATM repair technician   \n",
      "\n",
      "                                               Skill  \n",
      "0  digital data processing information structure ...  \n",
      "1  particle animation principles of animation 3D ...  \n",
      "2  3D texturing 3D lighting augmented reality com...  \n",
      "3  3D printing process printing on large scale ma...  \n",
      "4  mechanical tools security threats ATM systems ...  \n",
      "(3039, 2)\n"
     ]
    }
   ],
   "source": [
    "jobs= jobs.groupby('Occupation')['Skill'].apply(lambda skill: ' '.join(skill)).reset_index()\n",
    "print(jobs.head())\n",
    "print(jobs.shape)"
   ]
  },
  {
   "cell_type": "code",
   "execution_count": 193,
   "id": "ea71e548-516e-405d-96d6-3694bf3454a2",
   "metadata": {},
   "outputs": [
    {
     "name": "stdout",
     "output_type": "stream",
     "text": [
      "(3039, 6452)\n"
     ]
    }
   ],
   "source": [
    "from sklearn.feature_extraction.text import TfidfVectorizer\n",
    "\n",
    "# 1. Create the vectorizer\n",
    "vectorizer = TfidfVectorizer(max_features=13492) \n",
    "\n",
    "# 2. Fit and transform your data\n",
    "X_tfidf = vectorizer.fit_transform(jobs['Skill'])\n",
    "\n",
    "# 3. Check the result\n",
    "print(X_tfidf.shape)  # Should be (3039, 13492) if you used max_features"
   ]
  },
  {
   "cell_type": "code",
   "execution_count": 194,
   "id": "959a6a7a-c9a4-4ceb-a29c-9fe9176fe748",
   "metadata": {},
   "outputs": [
    {
     "name": "stdout",
     "output_type": "stream",
     "text": [
      "                                                   0\n",
      "0    (0, 3037)\\t0.05440176920154425\\n  (0, 5180)\\...\n",
      "1    (0, 5332)\\t0.08300315094942315\\n  (0, 1818)\\...\n",
      "2    (0, 4058)\\t0.05756249261029287\\n  (0, 3)\\t0....\n",
      "3    (0, 4579)\\t0.08291848376818328\\n  (0, 1016)\\...\n",
      "4    (0, 3268)\\t0.16459976190897171\\n  (0, 5769)\\...\n"
     ]
    }
   ],
   "source": [
    "jobsvec=pd.DataFrame(X_tfidf).head()\n",
    "print(jobsvec)"
   ]
  },
  {
   "cell_type": "code",
   "execution_count": null,
   "id": "35372e84-ece3-4488-8fc9-1f2cfbb47ae8",
   "metadata": {},
   "outputs": [],
   "source": [
    "#PCA: Give me the fewest possible components that together explain 95% of the total variance in the data."
   ]
  },
  {
   "cell_type": "code",
   "execution_count": null,
   "id": "8626da91-01b8-4cbe-aca9-2d98c89acd09",
   "metadata": {},
   "outputs": [],
   "source": [
    "#Investigate if PCA or not, seems to cause issues with component transformation. "
   ]
  }
 ],
 "metadata": {
  "kernelspec": {
   "display_name": "Python [conda env:base] *",
   "language": "python",
   "name": "conda-base-py"
  },
  "language_info": {
   "codemirror_mode": {
    "name": "ipython",
    "version": 3
   },
   "file_extension": ".py",
   "mimetype": "text/x-python",
   "name": "python",
   "nbconvert_exporter": "python",
   "pygments_lexer": "ipython3",
   "version": "3.11.7"
  }
 },
 "nbformat": 4,
 "nbformat_minor": 5
}
